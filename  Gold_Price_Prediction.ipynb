{
 "cells": [
  {
   "cell_type": "markdown",
   "id": "53a96c31",
   "metadata": {},
   "source": [
    "# CodeClause Data Science Intern Project-1 : Gold Price Prediction\n"
   ]
  },
  {
   "cell_type": "markdown",
   "id": "716b6566",
   "metadata": {},
   "source": [
    "### About the DataSet:\n",
    "\n",
    " \n",
    "\n",
    "Link to the Dataset used - <a herf= https://www.kaggle.com/datasets/altruistdelhite04/gold-price-data> Gold Price DataSet <br>\n",
    "    \n",
    "<p>The dataset contains historical prices of gold and other important financial information. I began by analyzing the data to gain insights, then worked on refining and organizing the data to prepare it for modeling. Next, I trained and compared different machine learning models to predict gold prices. To evaluate the performance of these models, I used metrics like mean squared error and root mean squared error.</p>"
   ]
  },
  {
   "cell_type": "markdown",
   "id": "271ff4e8",
   "metadata": {},
   "source": [
    "### Table of Contents\n",
    "1) Importing the Dependencies <br>\n",
    "2) Data Collection and Data Processing <br>\n",
    "3) Exploratory Data Analysis <br>\n",
    "4) Splitting Data into the Features and Target <br>\n",
    "5) Splitting Data into Training data and Test Data <br>\n",
    "6) Model Training: Random Forest Regressor <br>\n",
    "7) Model Evaluation <br>\n",
    "8) Compare the Actual Values and Predicted values <br>\n"
   ]
  },
  {
   "cell_type": "markdown",
   "id": "e6f2636c",
   "metadata": {},
   "source": [
    "## Importing the Dependencies"
   ]
  },
  {
   "cell_type": "code",
   "execution_count": 1,
   "id": "de146fd7",
   "metadata": {},
   "outputs": [],
   "source": [
    "import numpy as np\n",
    "import pandas as pd\n",
    "import matplotlib.pyplot as plt\n",
    "import seaborn as sns\n",
    "from sklearn.model_selection import train_test_split\n",
    "from sklearn.ensemble import RandomForestRegressor\n",
    "from sklearn import metrics\n",
    "import warnings\n",
    "warnings.filterwarnings(\"ignore\")"
   ]
  },
  {
   "cell_type": "markdown",
   "id": "415ced58",
   "metadata": {},
   "source": [
    "## Data Collection and Preprocessing"
   ]
  },
  {
   "cell_type": "code",
   "execution_count": 2,
   "id": "dea5e513",
   "metadata": {},
   "outputs": [],
   "source": [
    "# loading the csv data into pandas dataframe\n",
    "df=pd.read_csv('gld_price_data.csv')"
   ]
  },
  {
   "cell_type": "markdown",
   "id": "dadff1a7",
   "metadata": {},
   "source": [
    "## Inspecting the Dataset"
   ]
  },
  {
   "cell_type": "code",
   "execution_count": 3,
   "id": "c1050366",
   "metadata": {},
   "outputs": [
    {
     "data": {
      "text/html": [
       "<div>\n",
       "<style scoped>\n",
       "    .dataframe tbody tr th:only-of-type {\n",
       "        vertical-align: middle;\n",
       "    }\n",
       "\n",
       "    .dataframe tbody tr th {\n",
       "        vertical-align: top;\n",
       "    }\n",
       "\n",
       "    .dataframe thead th {\n",
       "        text-align: right;\n",
       "    }\n",
       "</style>\n",
       "<table border=\"1\" class=\"dataframe\">\n",
       "  <thead>\n",
       "    <tr style=\"text-align: right;\">\n",
       "      <th></th>\n",
       "      <th>Date</th>\n",
       "      <th>SPX</th>\n",
       "      <th>GLD</th>\n",
       "      <th>USO</th>\n",
       "      <th>SLV</th>\n",
       "      <th>EUR/USD</th>\n",
       "    </tr>\n",
       "  </thead>\n",
       "  <tbody>\n",
       "    <tr>\n",
       "      <th>0</th>\n",
       "      <td>1/2/2008</td>\n",
       "      <td>1447.160034</td>\n",
       "      <td>84.860001</td>\n",
       "      <td>78.470001</td>\n",
       "      <td>15.1800</td>\n",
       "      <td>1.471692</td>\n",
       "    </tr>\n",
       "    <tr>\n",
       "      <th>1</th>\n",
       "      <td>1/3/2008</td>\n",
       "      <td>1447.160034</td>\n",
       "      <td>85.570000</td>\n",
       "      <td>78.370003</td>\n",
       "      <td>15.2850</td>\n",
       "      <td>1.474491</td>\n",
       "    </tr>\n",
       "    <tr>\n",
       "      <th>2</th>\n",
       "      <td>1/4/2008</td>\n",
       "      <td>1411.630005</td>\n",
       "      <td>85.129997</td>\n",
       "      <td>77.309998</td>\n",
       "      <td>15.1670</td>\n",
       "      <td>1.475492</td>\n",
       "    </tr>\n",
       "    <tr>\n",
       "      <th>3</th>\n",
       "      <td>1/7/2008</td>\n",
       "      <td>1416.180054</td>\n",
       "      <td>84.769997</td>\n",
       "      <td>75.500000</td>\n",
       "      <td>15.0530</td>\n",
       "      <td>1.468299</td>\n",
       "    </tr>\n",
       "    <tr>\n",
       "      <th>4</th>\n",
       "      <td>1/8/2008</td>\n",
       "      <td>1390.189941</td>\n",
       "      <td>86.779999</td>\n",
       "      <td>76.059998</td>\n",
       "      <td>15.5900</td>\n",
       "      <td>1.557099</td>\n",
       "    </tr>\n",
       "    <tr>\n",
       "      <th>...</th>\n",
       "      <td>...</td>\n",
       "      <td>...</td>\n",
       "      <td>...</td>\n",
       "      <td>...</td>\n",
       "      <td>...</td>\n",
       "      <td>...</td>\n",
       "    </tr>\n",
       "    <tr>\n",
       "      <th>2285</th>\n",
       "      <td>5/8/2018</td>\n",
       "      <td>2671.919922</td>\n",
       "      <td>124.589996</td>\n",
       "      <td>14.060000</td>\n",
       "      <td>15.5100</td>\n",
       "      <td>1.186789</td>\n",
       "    </tr>\n",
       "    <tr>\n",
       "      <th>2286</th>\n",
       "      <td>5/9/2018</td>\n",
       "      <td>2697.790039</td>\n",
       "      <td>124.330002</td>\n",
       "      <td>14.370000</td>\n",
       "      <td>15.5300</td>\n",
       "      <td>1.184722</td>\n",
       "    </tr>\n",
       "    <tr>\n",
       "      <th>2287</th>\n",
       "      <td>5/10/2018</td>\n",
       "      <td>2723.070068</td>\n",
       "      <td>125.180000</td>\n",
       "      <td>14.410000</td>\n",
       "      <td>15.7400</td>\n",
       "      <td>1.191753</td>\n",
       "    </tr>\n",
       "    <tr>\n",
       "      <th>2288</th>\n",
       "      <td>5/14/2018</td>\n",
       "      <td>2730.129883</td>\n",
       "      <td>124.489998</td>\n",
       "      <td>14.380000</td>\n",
       "      <td>15.5600</td>\n",
       "      <td>1.193118</td>\n",
       "    </tr>\n",
       "    <tr>\n",
       "      <th>2289</th>\n",
       "      <td>5/16/2018</td>\n",
       "      <td>2725.780029</td>\n",
       "      <td>122.543800</td>\n",
       "      <td>14.405800</td>\n",
       "      <td>15.4542</td>\n",
       "      <td>1.182033</td>\n",
       "    </tr>\n",
       "  </tbody>\n",
       "</table>\n",
       "<p>2290 rows × 6 columns</p>\n",
       "</div>"
      ],
      "text/plain": [
       "           Date          SPX         GLD        USO      SLV   EUR/USD\n",
       "0      1/2/2008  1447.160034   84.860001  78.470001  15.1800  1.471692\n",
       "1      1/3/2008  1447.160034   85.570000  78.370003  15.2850  1.474491\n",
       "2      1/4/2008  1411.630005   85.129997  77.309998  15.1670  1.475492\n",
       "3      1/7/2008  1416.180054   84.769997  75.500000  15.0530  1.468299\n",
       "4      1/8/2008  1390.189941   86.779999  76.059998  15.5900  1.557099\n",
       "...         ...          ...         ...        ...      ...       ...\n",
       "2285   5/8/2018  2671.919922  124.589996  14.060000  15.5100  1.186789\n",
       "2286   5/9/2018  2697.790039  124.330002  14.370000  15.5300  1.184722\n",
       "2287  5/10/2018  2723.070068  125.180000  14.410000  15.7400  1.191753\n",
       "2288  5/14/2018  2730.129883  124.489998  14.380000  15.5600  1.193118\n",
       "2289  5/16/2018  2725.780029  122.543800  14.405800  15.4542  1.182033\n",
       "\n",
       "[2290 rows x 6 columns]"
      ]
     },
     "execution_count": 3,
     "metadata": {},
     "output_type": "execute_result"
    }
   ],
   "source": [
    "#printing the dataset\n",
    "df"
   ]
  },
  {
   "cell_type": "markdown",
   "id": "ec08d4c5",
   "metadata": {},
   "source": [
    "<b>Data set columns</b>\n",
    "\n",
    "Date - mm/dd/yyyy <br>\n",
    "SPX - is a free-float weighted measurement stock market index of the 500 largest companies listed on stock exchanges in the United States.<br>\n",
    "GLD - Gold Price<br>\n",
    "USO - United States Oil Fund<br>\n",
    "SLV - Silver Price<br>\n",
    "EUR/USD - currency pair quotation of the Euro against the US"
   ]
  },
  {
   "cell_type": "code",
   "execution_count": 4,
   "id": "4adf682c",
   "metadata": {},
   "outputs": [
    {
     "data": {
      "text/html": [
       "<div>\n",
       "<style scoped>\n",
       "    .dataframe tbody tr th:only-of-type {\n",
       "        vertical-align: middle;\n",
       "    }\n",
       "\n",
       "    .dataframe tbody tr th {\n",
       "        vertical-align: top;\n",
       "    }\n",
       "\n",
       "    .dataframe thead th {\n",
       "        text-align: right;\n",
       "    }\n",
       "</style>\n",
       "<table border=\"1\" class=\"dataframe\">\n",
       "  <thead>\n",
       "    <tr style=\"text-align: right;\">\n",
       "      <th></th>\n",
       "      <th>Date</th>\n",
       "      <th>SPX</th>\n",
       "      <th>GLD</th>\n",
       "      <th>USO</th>\n",
       "      <th>SLV</th>\n",
       "      <th>EUR/USD</th>\n",
       "    </tr>\n",
       "  </thead>\n",
       "  <tbody>\n",
       "    <tr>\n",
       "      <th>0</th>\n",
       "      <td>1/2/2008</td>\n",
       "      <td>1447.160034</td>\n",
       "      <td>84.860001</td>\n",
       "      <td>78.470001</td>\n",
       "      <td>15.180</td>\n",
       "      <td>1.471692</td>\n",
       "    </tr>\n",
       "    <tr>\n",
       "      <th>1</th>\n",
       "      <td>1/3/2008</td>\n",
       "      <td>1447.160034</td>\n",
       "      <td>85.570000</td>\n",
       "      <td>78.370003</td>\n",
       "      <td>15.285</td>\n",
       "      <td>1.474491</td>\n",
       "    </tr>\n",
       "    <tr>\n",
       "      <th>2</th>\n",
       "      <td>1/4/2008</td>\n",
       "      <td>1411.630005</td>\n",
       "      <td>85.129997</td>\n",
       "      <td>77.309998</td>\n",
       "      <td>15.167</td>\n",
       "      <td>1.475492</td>\n",
       "    </tr>\n",
       "    <tr>\n",
       "      <th>3</th>\n",
       "      <td>1/7/2008</td>\n",
       "      <td>1416.180054</td>\n",
       "      <td>84.769997</td>\n",
       "      <td>75.500000</td>\n",
       "      <td>15.053</td>\n",
       "      <td>1.468299</td>\n",
       "    </tr>\n",
       "    <tr>\n",
       "      <th>4</th>\n",
       "      <td>1/8/2008</td>\n",
       "      <td>1390.189941</td>\n",
       "      <td>86.779999</td>\n",
       "      <td>76.059998</td>\n",
       "      <td>15.590</td>\n",
       "      <td>1.557099</td>\n",
       "    </tr>\n",
       "  </tbody>\n",
       "</table>\n",
       "</div>"
      ],
      "text/plain": [
       "       Date          SPX        GLD        USO     SLV   EUR/USD\n",
       "0  1/2/2008  1447.160034  84.860001  78.470001  15.180  1.471692\n",
       "1  1/3/2008  1447.160034  85.570000  78.370003  15.285  1.474491\n",
       "2  1/4/2008  1411.630005  85.129997  77.309998  15.167  1.475492\n",
       "3  1/7/2008  1416.180054  84.769997  75.500000  15.053  1.468299\n",
       "4  1/8/2008  1390.189941  86.779999  76.059998  15.590  1.557099"
      ]
     },
     "execution_count": 4,
     "metadata": {},
     "output_type": "execute_result"
    }
   ],
   "source": [
    "#first five rows in the dataframe\n",
    "df.head()"
   ]
  },
  {
   "cell_type": "code",
   "execution_count": 5,
   "id": "b0518ab7",
   "metadata": {},
   "outputs": [
    {
     "data": {
      "text/html": [
       "<div>\n",
       "<style scoped>\n",
       "    .dataframe tbody tr th:only-of-type {\n",
       "        vertical-align: middle;\n",
       "    }\n",
       "\n",
       "    .dataframe tbody tr th {\n",
       "        vertical-align: top;\n",
       "    }\n",
       "\n",
       "    .dataframe thead th {\n",
       "        text-align: right;\n",
       "    }\n",
       "</style>\n",
       "<table border=\"1\" class=\"dataframe\">\n",
       "  <thead>\n",
       "    <tr style=\"text-align: right;\">\n",
       "      <th></th>\n",
       "      <th>Date</th>\n",
       "      <th>SPX</th>\n",
       "      <th>GLD</th>\n",
       "      <th>USO</th>\n",
       "      <th>SLV</th>\n",
       "      <th>EUR/USD</th>\n",
       "    </tr>\n",
       "  </thead>\n",
       "  <tbody>\n",
       "    <tr>\n",
       "      <th>2285</th>\n",
       "      <td>5/8/2018</td>\n",
       "      <td>2671.919922</td>\n",
       "      <td>124.589996</td>\n",
       "      <td>14.0600</td>\n",
       "      <td>15.5100</td>\n",
       "      <td>1.186789</td>\n",
       "    </tr>\n",
       "    <tr>\n",
       "      <th>2286</th>\n",
       "      <td>5/9/2018</td>\n",
       "      <td>2697.790039</td>\n",
       "      <td>124.330002</td>\n",
       "      <td>14.3700</td>\n",
       "      <td>15.5300</td>\n",
       "      <td>1.184722</td>\n",
       "    </tr>\n",
       "    <tr>\n",
       "      <th>2287</th>\n",
       "      <td>5/10/2018</td>\n",
       "      <td>2723.070068</td>\n",
       "      <td>125.180000</td>\n",
       "      <td>14.4100</td>\n",
       "      <td>15.7400</td>\n",
       "      <td>1.191753</td>\n",
       "    </tr>\n",
       "    <tr>\n",
       "      <th>2288</th>\n",
       "      <td>5/14/2018</td>\n",
       "      <td>2730.129883</td>\n",
       "      <td>124.489998</td>\n",
       "      <td>14.3800</td>\n",
       "      <td>15.5600</td>\n",
       "      <td>1.193118</td>\n",
       "    </tr>\n",
       "    <tr>\n",
       "      <th>2289</th>\n",
       "      <td>5/16/2018</td>\n",
       "      <td>2725.780029</td>\n",
       "      <td>122.543800</td>\n",
       "      <td>14.4058</td>\n",
       "      <td>15.4542</td>\n",
       "      <td>1.182033</td>\n",
       "    </tr>\n",
       "  </tbody>\n",
       "</table>\n",
       "</div>"
      ],
      "text/plain": [
       "           Date          SPX         GLD      USO      SLV   EUR/USD\n",
       "2285   5/8/2018  2671.919922  124.589996  14.0600  15.5100  1.186789\n",
       "2286   5/9/2018  2697.790039  124.330002  14.3700  15.5300  1.184722\n",
       "2287  5/10/2018  2723.070068  125.180000  14.4100  15.7400  1.191753\n",
       "2288  5/14/2018  2730.129883  124.489998  14.3800  15.5600  1.193118\n",
       "2289  5/16/2018  2725.780029  122.543800  14.4058  15.4542  1.182033"
      ]
     },
     "execution_count": 5,
     "metadata": {},
     "output_type": "execute_result"
    }
   ],
   "source": [
    "#last five rows in the dataframe\n",
    "df.tail()"
   ]
  },
  {
   "cell_type": "code",
   "execution_count": 6,
   "id": "a32a02b9",
   "metadata": {},
   "outputs": [
    {
     "data": {
      "text/html": [
       "<div>\n",
       "<style scoped>\n",
       "    .dataframe tbody tr th:only-of-type {\n",
       "        vertical-align: middle;\n",
       "    }\n",
       "\n",
       "    .dataframe tbody tr th {\n",
       "        vertical-align: top;\n",
       "    }\n",
       "\n",
       "    .dataframe thead th {\n",
       "        text-align: right;\n",
       "    }\n",
       "</style>\n",
       "<table border=\"1\" class=\"dataframe\">\n",
       "  <thead>\n",
       "    <tr style=\"text-align: right;\">\n",
       "      <th></th>\n",
       "      <th>Date</th>\n",
       "      <th>SPX</th>\n",
       "      <th>GLD</th>\n",
       "      <th>USO</th>\n",
       "      <th>SLV</th>\n",
       "      <th>EUR/USD</th>\n",
       "    </tr>\n",
       "  </thead>\n",
       "  <tbody>\n",
       "    <tr>\n",
       "      <th>645</th>\n",
       "      <td>12/17/2010</td>\n",
       "      <td>1243.910034</td>\n",
       "      <td>134.199997</td>\n",
       "      <td>37.810001</td>\n",
       "      <td>28.510000</td>\n",
       "      <td>1.323995</td>\n",
       "    </tr>\n",
       "    <tr>\n",
       "      <th>1879</th>\n",
       "      <td>7/11/2016</td>\n",
       "      <td>2137.159912</td>\n",
       "      <td>129.289993</td>\n",
       "      <td>10.650000</td>\n",
       "      <td>19.299999</td>\n",
       "      <td>1.105803</td>\n",
       "    </tr>\n",
       "    <tr>\n",
       "      <th>2051</th>\n",
       "      <td>4/11/2017</td>\n",
       "      <td>2353.780029</td>\n",
       "      <td>121.190002</td>\n",
       "      <td>11.170000</td>\n",
       "      <td>17.309999</td>\n",
       "      <td>1.061132</td>\n",
       "    </tr>\n",
       "    <tr>\n",
       "      <th>1727</th>\n",
       "      <td>11/9/2015</td>\n",
       "      <td>2078.580078</td>\n",
       "      <td>104.400002</td>\n",
       "      <td>14.080000</td>\n",
       "      <td>13.890000</td>\n",
       "      <td>1.073341</td>\n",
       "    </tr>\n",
       "    <tr>\n",
       "      <th>1933</th>\n",
       "      <td>10/13/2016</td>\n",
       "      <td>2132.550049</td>\n",
       "      <td>120.029999</td>\n",
       "      <td>11.490000</td>\n",
       "      <td>16.610001</td>\n",
       "      <td>1.104972</td>\n",
       "    </tr>\n",
       "    <tr>\n",
       "      <th>1665</th>\n",
       "      <td>7/22/2015</td>\n",
       "      <td>2114.149902</td>\n",
       "      <td>104.800003</td>\n",
       "      <td>16.340000</td>\n",
       "      <td>14.140000</td>\n",
       "      <td>1.092705</td>\n",
       "    </tr>\n",
       "    <tr>\n",
       "      <th>821</th>\n",
       "      <td>10/6/2011</td>\n",
       "      <td>1164.969971</td>\n",
       "      <td>160.490005</td>\n",
       "      <td>31.980000</td>\n",
       "      <td>31.200001</td>\n",
       "      <td>1.342895</td>\n",
       "    </tr>\n",
       "    <tr>\n",
       "      <th>21</th>\n",
       "      <td>2/1/2008</td>\n",
       "      <td>1395.420044</td>\n",
       "      <td>89.349998</td>\n",
       "      <td>70.470001</td>\n",
       "      <td>16.618999</td>\n",
       "      <td>1.479991</td>\n",
       "    </tr>\n",
       "    <tr>\n",
       "      <th>1723</th>\n",
       "      <td>11/3/2015</td>\n",
       "      <td>2109.790039</td>\n",
       "      <td>106.980003</td>\n",
       "      <td>15.280000</td>\n",
       "      <td>14.580000</td>\n",
       "      <td>1.101601</td>\n",
       "    </tr>\n",
       "    <tr>\n",
       "      <th>1696</th>\n",
       "      <td>9/16/2015</td>\n",
       "      <td>1995.310059</td>\n",
       "      <td>107.309998</td>\n",
       "      <td>15.360000</td>\n",
       "      <td>14.220000</td>\n",
       "      <td>1.129203</td>\n",
       "    </tr>\n",
       "  </tbody>\n",
       "</table>\n",
       "</div>"
      ],
      "text/plain": [
       "            Date          SPX         GLD        USO        SLV   EUR/USD\n",
       "645   12/17/2010  1243.910034  134.199997  37.810001  28.510000  1.323995\n",
       "1879   7/11/2016  2137.159912  129.289993  10.650000  19.299999  1.105803\n",
       "2051   4/11/2017  2353.780029  121.190002  11.170000  17.309999  1.061132\n",
       "1727   11/9/2015  2078.580078  104.400002  14.080000  13.890000  1.073341\n",
       "1933  10/13/2016  2132.550049  120.029999  11.490000  16.610001  1.104972\n",
       "1665   7/22/2015  2114.149902  104.800003  16.340000  14.140000  1.092705\n",
       "821    10/6/2011  1164.969971  160.490005  31.980000  31.200001  1.342895\n",
       "21      2/1/2008  1395.420044   89.349998  70.470001  16.618999  1.479991\n",
       "1723   11/3/2015  2109.790039  106.980003  15.280000  14.580000  1.101601\n",
       "1696   9/16/2015  1995.310059  107.309998  15.360000  14.220000  1.129203"
      ]
     },
     "execution_count": 6,
     "metadata": {},
     "output_type": "execute_result"
    }
   ],
   "source": [
    "#any 10 rows in the dataframe\n",
    "df.sample(10)"
   ]
  },
  {
   "cell_type": "markdown",
   "id": "779ec07d",
   "metadata": {},
   "source": [
    "## Information about DataSet"
   ]
  },
  {
   "cell_type": "code",
   "execution_count": 7,
   "id": "a9635fb3",
   "metadata": {},
   "outputs": [
    {
     "data": {
      "text/plain": [
       "(2290, 6)"
      ]
     },
     "execution_count": 7,
     "metadata": {},
     "output_type": "execute_result"
    }
   ],
   "source": [
    "#Number of rows and columns in dataframe\n",
    "df.shape"
   ]
  },
  {
   "cell_type": "markdown",
   "id": "98a6143e",
   "metadata": {},
   "source": [
    "The info() method prints information about the DataFrame. The information contains the number of columns, column labels, column data types, memory usage, range index, and the number of cells in each column (non-null values)."
   ]
  },
  {
   "cell_type": "code",
   "execution_count": 8,
   "id": "fdfa9acf",
   "metadata": {},
   "outputs": [
    {
     "name": "stdout",
     "output_type": "stream",
     "text": [
      "<class 'pandas.core.frame.DataFrame'>\n",
      "RangeIndex: 2290 entries, 0 to 2289\n",
      "Data columns (total 6 columns):\n",
      " #   Column   Non-Null Count  Dtype  \n",
      "---  ------   --------------  -----  \n",
      " 0   Date     2290 non-null   object \n",
      " 1   SPX      2290 non-null   float64\n",
      " 2   GLD      2290 non-null   float64\n",
      " 3   USO      2290 non-null   float64\n",
      " 4   SLV      2290 non-null   float64\n",
      " 5   EUR/USD  2290 non-null   float64\n",
      "dtypes: float64(5), object(1)\n",
      "memory usage: 107.5+ KB\n"
     ]
    }
   ],
   "source": [
    "df.info()"
   ]
  },
  {
   "cell_type": "markdown",
   "id": "2a41b7f0",
   "metadata": {},
   "source": [
    "The describe() method returns description of the data in the DataFrame. If the DataFrame contains numerical data, the description contains these information for each column: count - The number of not-empty values. mean - The average (mean) value."
   ]
  },
  {
   "cell_type": "code",
   "execution_count": 9,
   "id": "24f20672",
   "metadata": {},
   "outputs": [
    {
     "data": {
      "text/html": [
       "<div>\n",
       "<style scoped>\n",
       "    .dataframe tbody tr th:only-of-type {\n",
       "        vertical-align: middle;\n",
       "    }\n",
       "\n",
       "    .dataframe tbody tr th {\n",
       "        vertical-align: top;\n",
       "    }\n",
       "\n",
       "    .dataframe thead th {\n",
       "        text-align: right;\n",
       "    }\n",
       "</style>\n",
       "<table border=\"1\" class=\"dataframe\">\n",
       "  <thead>\n",
       "    <tr style=\"text-align: right;\">\n",
       "      <th></th>\n",
       "      <th>SPX</th>\n",
       "      <th>GLD</th>\n",
       "      <th>USO</th>\n",
       "      <th>SLV</th>\n",
       "      <th>EUR/USD</th>\n",
       "    </tr>\n",
       "  </thead>\n",
       "  <tbody>\n",
       "    <tr>\n",
       "      <th>count</th>\n",
       "      <td>2290.000000</td>\n",
       "      <td>2290.000000</td>\n",
       "      <td>2290.000000</td>\n",
       "      <td>2290.000000</td>\n",
       "      <td>2290.000000</td>\n",
       "    </tr>\n",
       "    <tr>\n",
       "      <th>mean</th>\n",
       "      <td>1654.315776</td>\n",
       "      <td>122.732875</td>\n",
       "      <td>31.842221</td>\n",
       "      <td>20.084997</td>\n",
       "      <td>1.283653</td>\n",
       "    </tr>\n",
       "    <tr>\n",
       "      <th>std</th>\n",
       "      <td>519.111540</td>\n",
       "      <td>23.283346</td>\n",
       "      <td>19.523517</td>\n",
       "      <td>7.092566</td>\n",
       "      <td>0.131547</td>\n",
       "    </tr>\n",
       "    <tr>\n",
       "      <th>min</th>\n",
       "      <td>676.530029</td>\n",
       "      <td>70.000000</td>\n",
       "      <td>7.960000</td>\n",
       "      <td>8.850000</td>\n",
       "      <td>1.039047</td>\n",
       "    </tr>\n",
       "    <tr>\n",
       "      <th>25%</th>\n",
       "      <td>1239.874969</td>\n",
       "      <td>109.725000</td>\n",
       "      <td>14.380000</td>\n",
       "      <td>15.570000</td>\n",
       "      <td>1.171313</td>\n",
       "    </tr>\n",
       "    <tr>\n",
       "      <th>50%</th>\n",
       "      <td>1551.434998</td>\n",
       "      <td>120.580002</td>\n",
       "      <td>33.869999</td>\n",
       "      <td>17.268500</td>\n",
       "      <td>1.303297</td>\n",
       "    </tr>\n",
       "    <tr>\n",
       "      <th>75%</th>\n",
       "      <td>2073.010070</td>\n",
       "      <td>132.840004</td>\n",
       "      <td>37.827501</td>\n",
       "      <td>22.882500</td>\n",
       "      <td>1.369971</td>\n",
       "    </tr>\n",
       "    <tr>\n",
       "      <th>max</th>\n",
       "      <td>2872.870117</td>\n",
       "      <td>184.589996</td>\n",
       "      <td>117.480003</td>\n",
       "      <td>47.259998</td>\n",
       "      <td>1.598798</td>\n",
       "    </tr>\n",
       "  </tbody>\n",
       "</table>\n",
       "</div>"
      ],
      "text/plain": [
       "               SPX          GLD          USO          SLV      EUR/USD\n",
       "count  2290.000000  2290.000000  2290.000000  2290.000000  2290.000000\n",
       "mean   1654.315776   122.732875    31.842221    20.084997     1.283653\n",
       "std     519.111540    23.283346    19.523517     7.092566     0.131547\n",
       "min     676.530029    70.000000     7.960000     8.850000     1.039047\n",
       "25%    1239.874969   109.725000    14.380000    15.570000     1.171313\n",
       "50%    1551.434998   120.580002    33.869999    17.268500     1.303297\n",
       "75%    2073.010070   132.840004    37.827501    22.882500     1.369971\n",
       "max    2872.870117   184.589996   117.480003    47.259998     1.598798"
      ]
     },
     "execution_count": 9,
     "metadata": {},
     "output_type": "execute_result"
    }
   ],
   "source": [
    "df.describe()"
   ]
  },
  {
   "cell_type": "markdown",
   "id": "038c5ad3",
   "metadata": {},
   "source": [
    "## Handling with Missing data"
   ]
  },
  {
   "cell_type": "code",
   "execution_count": 10,
   "id": "30d4cee7",
   "metadata": {},
   "outputs": [
    {
     "data": {
      "text/plain": [
       "Date       0\n",
       "SPX        0\n",
       "GLD        0\n",
       "USO        0\n",
       "SLV        0\n",
       "EUR/USD    0\n",
       "dtype: int64"
      ]
     },
     "execution_count": 10,
     "metadata": {},
     "output_type": "execute_result"
    }
   ],
   "source": [
    "# checking the number of missing values\n",
    "df.isnull().sum()"
   ]
  },
  {
   "cell_type": "markdown",
   "id": "5fcebaa2",
   "metadata": {},
   "source": [
    "There are no missing values in the dataframe.So, we don't need to no anything"
   ]
  },
  {
   "cell_type": "markdown",
   "id": "6b8a4522",
   "metadata": {},
   "source": [
    "# EXPLORATORY DATA ANALYSIS"
   ]
  },
  {
   "cell_type": "code",
   "execution_count": 11,
   "id": "6062be7f",
   "metadata": {},
   "outputs": [
    {
     "data": {
      "image/png": "[encoded data removed]",
      "text/plain": [
       "<Figure size 864x432 with 1 Axes>"
      ]
     },
     "metadata": {
      "needs_background": "light"
     },
     "output_type": "display_data"
    }
   ],
   "source": [
    "data_set1 = df.copy()\n",
    "data_set1.Date = pd.to_datetime(data_set1['Date'])\n",
    "data_set1.set_index('Date')\n",
    "plt.figure(figsize=(12,6))\n",
    "plt.plot(data_set1['Date'].values,data_set1['SPX'],color='red',label='SPX')\n",
    "plt.xlabel('Date')\n",
    "plt.ylabel('price')\n",
    "plt.legend()\n",
    "plt.show()"
   ]
  },
  {
   "cell_type": "markdown",
   "id": "95a2d472",
   "metadata": {},
   "source": [
    "The graph represents the price movements of the 'SPX' (presumably the S&P 500 index) over time. The x-axis represents dates, and the y-axis represents the price. "
   ]
  },
  {
   "cell_type": "markdown",
   "id": "1802d17f",
   "metadata": {},
   "source": [
    "### Correlation"
   ]
  },
  {
   "cell_type": "markdown",
   "id": "98889ce2",
   "metadata": {},
   "source": [
    "<strong>Data Correlation:</strong> Is a way to understand the relationship between multiple variables and attributes in your dataset. Using Correlation, you can get some insights such as:\n",
    "\n",
    "<li>One or multiple attributes depend on another attribute or a cause for another attribute.</li>\n",
    "<li>One or multiple attributes are associated with other attributes.</li>\n",
    "\n",
    "<strong>Positive Correlation:</strong> means that if feature A increases then feature B also increases or if feature A decreases then feature B also decreases. Both features move in tandem and they have a linear relationship.\n",
    "\n",
    "<strong>Negative Correlation:</strong> means that if feature A increases then feature B decreases and vice versa.\n",
    "\n",
    "<strong>No Correlation:</strong> No relationship between those two attributes."
   ]
  },
  {
   "cell_type": "code",
   "execution_count": 12,
   "id": "7d515b15",
   "metadata": {},
   "outputs": [],
   "source": [
    "correlation = df.corr()"
   ]
  },
  {
   "cell_type": "code",
   "execution_count": 13,
   "id": "26fd9a5d",
   "metadata": {},
   "outputs": [
    {
     "data": {
      "text/plain": [
       "<AxesSubplot:>"
      ]
     },
     "execution_count": 13,
     "metadata": {},
     "output_type": "execute_result"
    },
    {
     "data": {
      "image/png": "[encoded data removed]",
      "text/plain": [
       "<Figure size 432x288 with 2 Axes>"
      ]
     },
     "metadata": {
      "needs_background": "light"
     },
     "output_type": "display_data"
    }
   ],
   "source": [
    "sns.heatmap(correlation ,cbar='True',square = 'True',annot = True ,annot_kws={'size':12},cmap='Greens',fmt='.1F')"
   ]
  },
  {
   "cell_type": "code",
   "execution_count": 14,
   "id": "7c6da547",
   "metadata": {},
   "outputs": [
    {
     "data": {
      "text/plain": [
       "SPX        0.049345\n",
       "GLD        1.000000\n",
       "USO       -0.186360\n",
       "SLV        0.866632\n",
       "EUR/USD   -0.024375\n",
       "Name: GLD, dtype: float64"
      ]
     },
     "execution_count": 14,
     "metadata": {},
     "output_type": "execute_result"
    }
   ],
   "source": [
    "correlation['GLD']"
   ]
  },
  {
   "cell_type": "code",
   "execution_count": 15,
   "id": "0ae1db51",
   "metadata": {},
   "outputs": [
    {
     "data": {
      "text/plain": [
       "<AxesSubplot:xlabel='GLD', ylabel='Density'>"
      ]
     },
     "execution_count": 15,
     "metadata": {},
     "output_type": "execute_result"
    },
    {
     "data": {
      "image/png": "[encoded data removed]",
      "text/plain": [
       "<Figure size 432x288 with 1 Axes>"
      ]
     },
     "metadata": {
      "needs_background": "light"
     },
     "output_type": "display_data"
    }
   ],
   "source": [
    "# checking the distribution of the GLD Price\n",
    "sns.distplot(df['GLD'],color='blue')"
   ]
  },
  {
   "cell_type": "markdown",
   "id": "62f33004",
   "metadata": {},
   "source": [
    "From Distribution Plot, I conclude that most of the values lie in the range of 120, and less values lie in 90 and 180 & bump in 100 and near 140."
   ]
  },
  {
   "cell_type": "markdown",
   "id": "bf0eb1bb",
   "metadata": {},
   "source": [
    "## Splitting Data into the Features and Target "
   ]
  },
  {
   "cell_type": "code",
   "execution_count": 16,
   "id": "18fe0e8c",
   "metadata": {},
   "outputs": [],
   "source": [
    "X = df.drop(['Date','GLD'],axis=1)\n",
    "Y = df['GLD']"
   ]
  },
  {
   "cell_type": "code",
   "execution_count": 17,
   "id": "de7568a7",
   "metadata": {},
   "outputs": [
    {
     "name": "stdout",
     "output_type": "stream",
     "text": [
      "              SPX        USO      SLV   EUR/USD\n",
      "0     1447.160034  78.470001  15.1800  1.471692\n",
      "1     1447.160034  78.370003  15.2850  1.474491\n",
      "2     1411.630005  77.309998  15.1670  1.475492\n",
      "3     1416.180054  75.500000  15.0530  1.468299\n",
      "4     1390.189941  76.059998  15.5900  1.557099\n",
      "...           ...        ...      ...       ...\n",
      "2285  2671.919922  14.060000  15.5100  1.186789\n",
      "2286  2697.790039  14.370000  15.5300  1.184722\n",
      "2287  2723.070068  14.410000  15.7400  1.191753\n",
      "2288  2730.129883  14.380000  15.5600  1.193118\n",
      "2289  2725.780029  14.405800  15.4542  1.182033\n",
      "\n",
      "[2290 rows x 4 columns]\n"
     ]
    }
   ],
   "source": [
    "print(X)"
   ]
  },
  {
   "cell_type": "code",
   "execution_count": 18,
   "id": "abce561f",
   "metadata": {},
   "outputs": [
    {
     "name": "stdout",
     "output_type": "stream",
     "text": [
      "0        84.860001\n",
      "1        85.570000\n",
      "2        85.129997\n",
      "3        84.769997\n",
      "4        86.779999\n",
      "           ...    \n",
      "2285    124.589996\n",
      "2286    124.330002\n",
      "2287    125.180000\n",
      "2288    124.489998\n",
      "2289    122.543800\n",
      "Name: GLD, Length: 2290, dtype: float64\n"
     ]
    }
   ],
   "source": [
    "print(Y)"
   ]
  },
  {
   "cell_type": "markdown",
   "id": "95fbbd91",
   "metadata": {},
   "source": [
    "### Splitting Data into Training data and Test Data"
   ]
  },
  {
   "cell_type": "code",
   "execution_count": 19,
   "id": "377c9287",
   "metadata": {},
   "outputs": [],
   "source": [
    "X_train, X_test, Y_train, Y_test = train_test_split(X, Y, test_size = 0.2, random_state=42)"
   ]
  },
  {
   "cell_type": "markdown",
   "id": "970348eb",
   "metadata": {},
   "source": [
    "## Model Creation and Training: Random Forest Regressor"
   ]
  },
  {
   "cell_type": "markdown",
   "id": "a0a9e67a",
   "metadata": {},
   "source": [
    "<b>Model Training:</b> Random Forest Regressor\n",
    "\n",
    "<li>Random forest is an ensemble of decision trees. This is to say that many trees, constructed in a certain “random” way form a Random Forest.</li>\n",
    "<li>Each tree is created from a different sample of rows and at each node, a different sample of features is selected for splitting.</li>\n",
    "<li>Each of the trees makes its own individual prediction.</li>\n",
    "<li>These predictions are then averaged to produce a single result</li>"
   ]
  },
  {
   "cell_type": "code",
   "execution_count": 20,
   "id": "8f60edf0",
   "metadata": {},
   "outputs": [
    {
     "data": {
      "text/html": [
       "<style>#sk-container-id-1 {color: black;background-color: white;}#sk-container-id-1 pre{padding: 0;}#sk-container-id-1 div.sk-toggleable {background-color: white;}#sk-container-id-1 label.sk-toggleable__label {cursor: pointer;display: block;width: 100%;margin-bottom: 0;padding: 0.3em;box-sizing: border-box;text-align: center;}#sk-container-id-1 label.sk-toggleable__label-arrow:before {content: \"▸\";float: left;margin-right: 0.25em;color: #696969;}#sk-container-id-1 label.sk-toggleable__label-arrow:hover:before {color: black;}#sk-container-id-1 div.sk-estimator:hover label.sk-toggleable__label-arrow:before {color: black;}#sk-container-id-1 div.sk-toggleable__content {max-height: 0;max-width: 0;overflow: hidden;text-align: left;background-color: #f0f8ff;}#sk-container-id-1 div.sk-toggleable__content pre {margin: 0.2em;color: black;border-radius: 0.25em;background-color: #f0f8ff;}#sk-container-id-1 input.sk-toggleable__control:checked~div.sk-toggleable__content {max-height: 200px;max-width: 100%;overflow: auto;}#sk-container-id-1 input.sk-toggleable__control:checked~label.sk-toggleable__label-arrow:before {content: \"▾\";}#sk-container-id-1 div.sk-estimator input.sk-toggleable__control:checked~label.sk-toggleable__label {background-color: #d4ebff;}#sk-container-id-1 div.sk-label input.sk-toggleable__control:checked~label.sk-toggleable__label {background-color: #d4ebff;}#sk-container-id-1 input.sk-hidden--visually {border: 0;clip: rect(1px 1px 1px 1px);clip: rect(1px, 1px, 1px, 1px);height: 1px;margin: -1px;overflow: hidden;padding: 0;position: absolute;width: 1px;}#sk-container-id-1 div.sk-estimator {font-family: monospace;background-color: #f0f8ff;border: 1px dotted black;border-radius: 0.25em;box-sizing: border-box;margin-bottom: 0.5em;}#sk-container-id-1 div.sk-estimator:hover {background-color: #d4ebff;}#sk-container-id-1 div.sk-parallel-item::after {content: \"\";width: 100%;border-bottom: 1px solid gray;flex-grow: 1;}#sk-container-id-1 div.sk-label:hover label.sk-toggleable__label {background-color: #d4ebff;}#sk-container-id-1 div.sk-serial::before {content: \"\";position: absolute;border-left: 1px solid gray;box-sizing: border-box;top: 0;bottom: 0;left: 50%;z-index: 0;}#sk-container-id-1 div.sk-serial {display: flex;flex-direction: column;align-items: center;background-color: white;padding-right: 0.2em;padding-left: 0.2em;position: relative;}#sk-container-id-1 div.sk-item {position: relative;z-index: 1;}#sk-container-id-1 div.sk-parallel {display: flex;align-items: stretch;justify-content: center;background-color: white;position: relative;}#sk-container-id-1 div.sk-item::before, #sk-container-id-1 div.sk-parallel-item::before {content: \"\";position: absolute;border-left: 1px solid gray;box-sizing: border-box;top: 0;bottom: 0;left: 50%;z-index: -1;}#sk-container-id-1 div.sk-parallel-item {display: flex;flex-direction: column;z-index: 1;position: relative;background-color: white;}#sk-container-id-1 div.sk-parallel-item:first-child::after {align-self: flex-end;width: 50%;}#sk-container-id-1 div.sk-parallel-item:last-child::after {align-self: flex-start;width: 50%;}#sk-container-id-1 div.sk-parallel-item:only-child::after {width: 0;}#sk-container-id-1 div.sk-dashed-wrapped {border: 1px dashed gray;margin: 0 0.4em 0.5em 0.4em;box-sizing: border-box;padding-bottom: 0.4em;background-color: white;}#sk-container-id-1 div.sk-label label {font-family: monospace;font-weight: bold;display: inline-block;line-height: 1.2em;}#sk-container-id-1 div.sk-label-container {text-align: center;}#sk-container-id-1 div.sk-container {/* jupyter's `normalize.less` sets `[hidden] { display: none; }` but bootstrap.min.css set `[hidden] { display: none !important; }` so we also need the `!important` here to be able to override the default hidden behavior on the sphinx rendered scikit-learn.org. See: https://github.com/scikit-learn/scikit-learn/issues/21755 */display: inline-block !important;position: relative;}#sk-container-id-1 div.sk-text-repr-fallback {display: none;}</style><div id=\"sk-container-id-1\" class=\"sk-top-container\"><div class=\"sk-text-repr-fallback\"><pre>RandomForestRegressor()</pre><b>In a Jupyter environment, please rerun this cell to show the HTML representation or trust the notebook. <br />On GitHub, the HTML representation is unable to render, please try loading this page with nbviewer.org.</b></div><div class=\"sk-container\" hidden><div class=\"sk-item\"><div class=\"sk-estimator sk-toggleable\"><input class=\"sk-toggleable__control sk-hidden--visually\" id=\"sk-estimator-id-1\" type=\"checkbox\" checked><label for=\"sk-estimator-id-1\" class=\"sk-toggleable__label sk-toggleable__label-arrow\">RandomForestRegressor</label><div class=\"sk-toggleable__content\"><pre>RandomForestRegressor()</pre></div></div></div></div></div>"
      ],
      "text/plain": [
       "RandomForestRegressor()"
      ]
     },
     "execution_count": 20,
     "metadata": {},
     "output_type": "execute_result"
    }
   ],
   "source": [
    "regressor = RandomForestRegressor(n_estimators=100)\n",
    "\n",
    "# Training the model\n",
    "# .fit function used to fit our data to this regressive model\n",
    "regressor.fit(X_train,Y_train)"
   ]
  },
  {
   "cell_type": "markdown",
   "id": "13ce9e8d",
   "metadata": {},
   "source": [
    "Now, The Random Forest Regression Model is trained, and I use this trained model to make  predictions.\n"
   ]
  },
  {
   "cell_type": "markdown",
   "id": "a720456c",
   "metadata": {},
   "source": [
    "## Model Evaluation\n"
   ]
  },
  {
   "cell_type": "code",
   "execution_count": 21,
   "id": "8b19f8c6",
   "metadata": {},
   "outputs": [
    {
     "data": {
      "text/plain": [
       "array([122.35429918, 130.38000266, 127.7318003 ,  96.66589768,\n",
       "       118.53270069, 114.31869917, 124.77540135, 117.69869907,\n",
       "       108.02840152,  98.25199992,  95.75529949, 167.76399863,\n",
       "       150.34980058, 116.50880029, 170.65850164,  84.98339921,\n",
       "       123.16869869, 108.72619726, 113.76259984, 131.42880305,\n",
       "       124.19009917, 113.70540112, 116.09840076, 108.87840009,\n",
       "       108.62320131, 125.68589926, 118.45879983, 112.49549924,\n",
       "       113.47260127, 125.45899938, 146.15770217,  89.4960999 ,\n",
       "       168.00859941, 113.83959901, 108.36500135, 120.12980157,\n",
       "       142.06949816, 161.29180094, 174.06449775, 153.22290165,\n",
       "       119.29270107, 112.90980091, 121.32819945, 113.70449931,\n",
       "       121.97103825, 108.00960087,  88.47759906, 114.47749915,\n",
       "       129.65490274, 118.10900098, 104.10740071, 129.70120284,\n",
       "       107.17949856, 160.40530406, 131.60900026, 118.20959971,\n",
       "       147.04740059, 135.09690207,  95.55580145, 124.82890127,\n",
       "       115.66669881,  86.40130058, 104.28449898, 113.83220088,\n",
       "        84.14019913, 122.25830043, 116.57129936, 113.30330183,\n",
       "       163.99860332,  92.36510016,  80.39330117, 161.22040014,\n",
       "       158.81380306, 106.76539991, 149.84420095, 109.54459767,\n",
       "       123.31540036, 128.4832011 , 113.32729912, 120.23540086,\n",
       "       135.61059779, 107.36630102,  93.76480061,  92.7192989 ,\n",
       "       111.55210048, 118.51729987, 108.53219924, 112.29029983,\n",
       "       167.76619894, 160.93399875, 107.77869857, 125.21070038,\n",
       "       108.11740062, 115.7967018 , 126.82189829, 108.33929973,\n",
       "       162.42430246,  83.23699887, 131.24730339, 114.97229993,\n",
       "       156.11540002, 110.36959823, 113.91789996, 107.28519954,\n",
       "       139.25270021,  88.17239946,  92.35219923, 175.27600196,\n",
       "       118.69800052, 118.79470012, 121.25270015, 171.36649726,\n",
       "       131.631     , 119.80220065, 158.20800222, 118.82919848,\n",
       "       119.28409974, 110.79249928, 119.75029928, 122.12679976,\n",
       "       129.07629888, 114.70769969,  89.35739932, 114.2879009 ,\n",
       "       131.95519923, 115.51580109, 124.59130024,  90.95819972,\n",
       "       107.00260027, 117.18400103, 109.58279948, 166.17780146,\n",
       "        80.73960067, 121.85099927,  72.92990168, 111.33959923,\n",
       "        99.51610074, 124.15329997,  76.0204    , 125.15129919,\n",
       "       119.85330032, 105.54179937,  90.78009973, 132.3298999 ,\n",
       "       138.12790256, 175.82559996, 126.5784992 , 126.12169886,\n",
       "       123.73049994,  92.00199882, 149.20220117, 102.88229872,\n",
       "       117.45689998, 134.56729834, 135.46299956, 118.34910022,\n",
       "       116.97610168, 102.15009796, 124.20289891,  89.7769994 ,\n",
       "       107.99129939, 117.44680055, 167.40140031, 117.35740089,\n",
       "       118.31099967, 155.72690138, 111.24670024,  87.3075993 ,\n",
       "       116.51970106, 124.17439944, 120.70050223, 118.25650013,\n",
       "        96.61459869, 109.28909981, 114.92299925, 127.71740109,\n",
       "       155.97830056, 108.03150112, 124.10059916, 139.83340232,\n",
       "        90.95760068, 118.02010115, 130.25770084, 113.93219885,\n",
       "       108.31419968, 119.14810039, 128.02180026, 125.70090105,\n",
       "       145.2367014 , 112.33530061,  93.70379988, 115.07529994,\n",
       "       125.50980055, 120.50270189, 122.17200067,  92.69140088,\n",
       "       121.37489873,  93.24000018, 119.09080012, 124.3057003 ,\n",
       "       121.87880013, 130.87430042, 124.37159935, 115.1316015 ,\n",
       "       127.45140089, 113.22550109, 165.22769968, 122.46409754,\n",
       "       119.80680165, 113.37909999, 120.05489971, 120.14879956,\n",
       "       105.68820125, 116.68910058, 125.79679921, 172.0381972 ,\n",
       "        85.66739996, 134.64919824, 127.8135991 ,  73.76370041,\n",
       "       119.31149974,  88.8437997 , 162.09790204,  92.25429975,\n",
       "       159.34530177, 102.34559807, 103.01449934, 102.51479889,\n",
       "       118.66999956, 165.50020146, 120.41200116, 135.69699888,\n",
       "        96.6595986 , 113.01759937, 132.43320096, 145.74630054,\n",
       "       125.48030023, 101.60040001, 125.28800082, 159.86690143,\n",
       "       120.07930143, 126.44820066, 127.55310175, 115.34119929,\n",
       "       156.93420221, 128.71449969, 114.10849932, 177.02109906,\n",
       "       119.90090206, 119.09660102, 102.77429845, 160.83839962,\n",
       "       114.6743005 , 118.32779974, 125.65479944, 116.99340081,\n",
       "       114.70279936,  90.70799958, 101.9084998 , 131.90580084,\n",
       "       118.69570224, 168.26689865, 107.64230128,  86.36800058,\n",
       "        91.72039979, 156.26399948, 158.06840035, 152.84019779,\n",
       "        72.69990033, 120.84270044, 117.33980035, 158.85959884,\n",
       "       135.25129946, 111.85549957, 113.95939946, 160.11000123,\n",
       "       125.56519974, 119.77030098, 117.75289989, 158.15560206,\n",
       "       104.03129998,  89.17249937,  82.51199935,  90.01219925,\n",
       "       115.5808001 , 113.49539996, 119.68610126, 119.58120103,\n",
       "        79.52140001,  90.98270029, 153.45480248, 119.70510056,\n",
       "       131.62109983, 126.08350149, 113.48220094,  82.40450052,\n",
       "       118.20809897,  89.84920017, 118.13629943, 163.29330234,\n",
       "       121.59550103, 110.5429004 , 125.4605986 , 114.43480039,\n",
       "       135.11020012,  79.68340099, 163.96069987, 132.48670064,\n",
       "       164.32989989, 127.7252988 ,  91.56099892, 108.4879992 ,\n",
       "       114.21769947, 127.60160111, 119.38850171,  92.46379916,\n",
       "       132.18869901, 162.71570092,  72.29560167, 112.57710044,\n",
       "       108.32160009, 113.75279865, 120.60590146, 111.85199954,\n",
       "       120.57939961, 118.22400209, 126.29000103, 125.56800107,\n",
       "       109.7886996 , 167.81039967, 166.15089912, 112.38169904,\n",
       "       169.76509788, 112.06079993, 161.84980252, 127.28839877,\n",
       "       167.47429904, 136.18760072, 109.28789856, 167.36399993,\n",
       "       116.48380167,  72.35760141, 113.33989995,  93.39639978,\n",
       "        87.89840033, 104.11659884, 125.7880008 , 123.51319767,\n",
       "       167.84649894, 121.84090042,  87.38129861, 131.70959799,\n",
       "       121.72260079, 107.17959976, 167.6779996 , 126.0744976 ,\n",
       "       127.06840128, 113.72120117, 134.96220007, 125.18850145,\n",
       "       144.42679822, 123.32249945, 118.38430002, 120.93889984,\n",
       "       167.13130046,  71.6174006 , 163.34309903, 164.78349842,\n",
       "       118.16880025, 103.6657982 , 128.10439876, 154.26919953,\n",
       "       171.90950159, 134.94659769, 126.97780023, 124.76670022,\n",
       "       154.0615983 ,  87.91919966, 130.84530152, 111.2617007 ,\n",
       "       164.36060066, 156.38689989, 167.33540068, 121.58400066,\n",
       "        90.04870019, 132.21720179,  99.73619956, 127.5064979 ,\n",
       "       127.64549891, 108.64629943,  90.87759935, 153.16320125,\n",
       "        95.32329882,  87.78139902, 125.02919903,  87.20369822,\n",
       "        94.10200106, 113.63909957, 156.43500368, 147.60530064,\n",
       "       105.39240008, 166.76969702, 111.37339995, 128.36020073,\n",
       "        90.72539985, 109.64529932,  75.62430073, 110.37939985,\n",
       "       163.3754995 , 155.50899894, 152.41060167, 161.98999986,\n",
       "        92.16069875, 118.12970163,  93.31780105, 130.25130028,\n",
       "       117.48640048, 117.43330034, 124.00800036, 120.76140015,\n",
       "        97.71019929, 167.16630178, 146.40930141, 124.49529892,\n",
       "       169.27579818,  84.30670004, 167.15219745, 130.35470281,\n",
       "       119.82080164,  88.42430003, 119.852099  ,  83.73249894,\n",
       "       118.7256009 , 113.935299  , 116.69339946, 152.44949899,\n",
       "       133.36630372, 117.62740116, 118.86289818, 123.15139859,\n",
       "       115.39070113, 118.55120022, 122.19270038, 144.47989932,\n",
       "       150.87120069, 168.43900074,  98.10859904, 159.91499939,\n",
       "        92.86510025, 141.98209862, 121.32290057,  84.01079854,\n",
       "       106.34019978, 123.45139975, 169.57099633,  93.49659917,\n",
       "        96.49030081, 152.91169958])"
      ]
     },
     "execution_count": 21,
     "metadata": {},
     "output_type": "execute_result"
    }
   ],
   "source": [
    "# Prediction on test data\n",
    "test_data_prediction = regressor.predict(X_test)\n",
    "test_data_prediction "
   ]
  },
  {
   "cell_type": "code",
   "execution_count": 22,
   "id": "9293c259",
   "metadata": {},
   "outputs": [
    {
     "name": "stdout",
     "output_type": "stream",
     "text": [
      "R squared error :  0.9900800451101153\n"
     ]
    }
   ],
   "source": [
    "# # R-squared is a statistical measure of how close the data are to the fitted regression line.\n",
    "error_score = metrics.r2_score(Y_test, test_data_prediction)\n",
    "print(\"R squared error : \", error_score)"
   ]
  },
  {
   "cell_type": "markdown",
   "id": "3b9a5acf",
   "metadata": {},
   "source": [
    "### Compare the Actual Values and Predicted Values in a Plot"
   ]
  },
  {
   "cell_type": "code",
   "execution_count": 23,
   "id": "dfae4974",
   "metadata": {},
   "outputs": [],
   "source": [
    "Y_test = list(Y_test)"
   ]
  },
  {
   "cell_type": "code",
   "execution_count": 24,
   "id": "f97f5f8a",
   "metadata": {},
   "outputs": [
    {
     "data": {
      "image/png": "[encoded data removed]",
      "text/plain": [
       "<Figure size 432x288 with 1 Axes>"
      ]
     },
     "metadata": {
      "needs_background": "light"
     },
     "output_type": "display_data"
    }
   ],
   "source": [
    "plt.plot(Y_test, color='green', label = 'Actual Value') # Actual Values\n",
    "plt.plot(test_data_prediction, color='red', label='Predicted Value') #Predicted Values\n",
    "plt.title('Actual Price vs Predicted Price')\n",
    "plt.xlabel('Number of values')\n",
    "plt.ylabel('GLD Price')\n",
    "plt.legend()\n",
    "plt.show()"
   ]
  },
  {
   "cell_type": "markdown",
   "id": "aca9676e",
   "metadata": {},
   "source": [
    "<li>R scored error: 0.99, which is very good.</li>\n",
    "<li>As I compare actual values and predicted values are very close to each other.</li>\n",
    "\n",
    "\n",
    "A machine learning model with an R-squared score of 0.99 indicates that the model's predictions explain 99% of the variability observed in the data. This high R-squared score suggests that the model is performing very well and is able to accurately capture the relationships between the input variables and the target variable. The model's predictions are likely to be highly accurate and reliable."
   ]
  }
 ],
 "metadata": {
  "kernelspec": {
   "display_name": "Python 3 (ipykernel)",
   "language": "python",
   "name": "python3"
  },
  "language_info": {
   "codemirror_mode": {
    "name": "ipython",
    "version": 3
   },
   "file_extension": ".py",
   "mimetype": "text/x-python",
   "name": "python",
   "nbconvert_exporter": "python",
   "pygments_lexer": "ipython3",
   "version": "3.10.4"
  }
 },
 "nbformat": 4,
 "nbformat_minor": 5
}
